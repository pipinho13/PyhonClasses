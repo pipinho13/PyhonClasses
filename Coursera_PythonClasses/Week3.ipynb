{
 "cells": [
  {
   "cell_type": "code",
   "execution_count": 2,
   "metadata": {},
   "outputs": [
    {
     "name": "stdout",
     "output_type": "stream",
     "text": [
      "got an error\n",
      "list index out of range\n",
      "continuing\n"
     ]
    }
   ],
   "source": [
    "try:\n",
    "    items = ['a', 'b']\n",
    "    third = items[2]\n",
    "    print(\"This won't print\")\n",
    "except Exception as e:\n",
    "    print(\"got an error\")\n",
    "    print(e)\n",
    "\n",
    "print(\"continuing\")\n"
   ]
  },
  {
   "cell_type": "code",
   "execution_count": 5,
   "metadata": {},
   "outputs": [
    {
     "name": "stdout",
     "output_type": "stream",
     "text": [
      "error 1\n",
      "continuing\n"
     ]
    }
   ],
   "source": [
    "try:\n",
    "    items = ['a', 'b']\n",
    "    third = items[2]\n",
    "    print(\"This won't print\")\n",
    "except IndexError:\n",
    "    print(\"error 1\")\n",
    "\n",
    "print(\"continuing\")\n"
   ]
  },
  {
   "cell_type": "code",
   "execution_count": 6,
   "metadata": {},
   "outputs": [
    {
     "ename": "ZeroDivisionError",
     "evalue": "division by zero",
     "output_type": "error",
     "traceback": [
      "\u001b[1;31m---------------------------------------------------------------------------\u001b[0m",
      "\u001b[1;31mZeroDivisionError\u001b[0m                         Traceback (most recent call last)",
      "\u001b[1;32m<ipython-input-6-2fceb12c3d7d>\u001b[0m in \u001b[0;36m<module>\u001b[1;34m()\u001b[0m\n\u001b[0;32m      2\u001b[0m \u001b[1;32mtry\u001b[0m\u001b[1;33m:\u001b[0m\u001b[1;33m\u001b[0m\u001b[0m\n\u001b[0;32m      3\u001b[0m     \u001b[0mx\u001b[0m \u001b[1;33m=\u001b[0m \u001b[1;36m5\u001b[0m\u001b[1;33m\u001b[0m\u001b[0m\n\u001b[1;32m----> 4\u001b[1;33m     \u001b[0my\u001b[0m \u001b[1;33m=\u001b[0m \u001b[0mx\u001b[0m\u001b[1;33m/\u001b[0m\u001b[1;36m0\u001b[0m\u001b[1;33m\u001b[0m\u001b[0m\n\u001b[0m\u001b[0;32m      5\u001b[0m     \u001b[0mprint\u001b[0m\u001b[1;33m(\u001b[0m\u001b[1;34m\"This won't print, either\"\u001b[0m\u001b[1;33m)\u001b[0m\u001b[1;33m\u001b[0m\u001b[0m\n\u001b[0;32m      6\u001b[0m \u001b[1;32mexcept\u001b[0m \u001b[0mIndexError\u001b[0m\u001b[1;33m:\u001b[0m\u001b[1;33m\u001b[0m\u001b[0m\n",
      "\u001b[1;31mZeroDivisionError\u001b[0m: division by zero"
     ]
    }
   ],
   "source": [
    "\n",
    "try:\n",
    "    x = 5\n",
    "    y = x/0\n",
    "    print(\"This won't print, either\")\n",
    "except IndexError:\n",
    "    print(\"error 2\")\n",
    "\n",
    "\n",
    "print(\"continuing again\")"
   ]
  },
  {
   "cell_type": "code",
   "execution_count": 8,
   "metadata": {},
   "outputs": [
    {
     "name": "stdout",
     "output_type": "stream",
     "text": [
      "0.3333333333333333\n",
      "0.5\n",
      "1.0\n",
      "Got an error float division by zero\n"
     ]
    }
   ],
   "source": [
    "try:\n",
    "    for i in range(5):\n",
    "        print(1.0 / (3-i))\n",
    "except Exception as error_inst:\n",
    "    print(\"Got an error\", error_inst)"
   ]
  },
  {
   "cell_type": "code",
   "execution_count": 11,
   "metadata": {},
   "outputs": [],
   "source": [
    "\n",
    "gold = {\"US\":46, \"Fiji\":1, \"Great Britain\":27, \"Cuba\":5, \"Thailand\":2, \"China\":26, \"France\":10}\n",
    "country = [\"Fiji\", \"Chile\", \"Mexico\", \"France\", \"Norway\", \"US\"]\n",
    "country_gold = []\n",
    "\n",
    "for x in country:\n",
    "    if x in gold:\n",
    "        country_gold.append(gold[x])\n",
    "    else:\n",
    "        country_gold.append(\"Did not get gold\")\n"
   ]
  },
  {
   "cell_type": "code",
   "execution_count": 12,
   "metadata": {},
   "outputs": [
    {
     "data": {
      "text/plain": [
       "[1, 'Did not get gold', 'Did not get gold', 10, 'Did not get gold', 46]"
      ]
     },
     "execution_count": 12,
     "metadata": {},
     "output_type": "execute_result"
    }
   ],
   "source": [
    "country_gold"
   ]
  },
  {
   "cell_type": "code",
   "execution_count": 20,
   "metadata": {},
   "outputs": [
    {
     "name": "stdout",
     "output_type": "stream",
     "text": [
      "Error\n"
     ]
    },
    {
     "data": {
      "text/plain": [
       "130"
      ]
     },
     "execution_count": 20,
     "metadata": {},
     "output_type": "execute_result"
    }
   ],
   "source": [
    "\n",
    "di = [{\"Puppies\": 17, 'Kittens': 9, \"Birds\": 23, 'Fish': 90, \"Hamsters\": 49}, {\"Puppies\": 23, \"Birds\": 29, \"Fish\": 20, \"Mice\": 20, \"Snakes\": 7}, {\"Fish\": 203, \"Hamsters\": 93, \"Snakes\": 25, \"Kittens\": 89}, {\"Birds\": 20, \"Puppies\": 90, \"Snakes\": 21, \"Fish\": 10, \"Kittens\": 67}]\n",
    "total = 0\n",
    "for diction in di:\n",
    "    try:\n",
    "        total = total + diction['Puppies']\n",
    "    except:\n",
    "        print(\"Error\")\n",
    "    \n",
    "total"
   ]
  },
  {
   "cell_type": "code",
   "execution_count": 22,
   "metadata": {},
   "outputs": [],
   "source": [
    "\n",
    "lst = [2,4,10,42,12,0,4,7,21,4,83,8,5,6,8,234,5,6,523,42,34,0,234,1,435,465,56,7,3,43,23]\n",
    "\n",
    "lst_three = []\n",
    "\n",
    "for num in lst:\n",
    "    try:\n",
    "        if 3 % num == 0:\n",
    "            lst_three.append(num)\n",
    "    except:\n",
    "        pass"
   ]
  },
  {
   "cell_type": "code",
   "execution_count": 24,
   "metadata": {},
   "outputs": [],
   "source": [
    "\n",
    "full_lst = [\"ab\", 'cde', 'fgh', 'i', 'jkml', 'nop', 'qr', 's', 'tv', 'wxy', 'z']\n",
    "\n",
    "attempt = []\n",
    "\n",
    "for elem in full_lst:\n",
    "    try:\n",
    "        attempt.append(elem[1])\n",
    "    except:\n",
    "        attempt.append(\"Error\")\n"
   ]
  },
  {
   "cell_type": "code",
   "execution_count": 25,
   "metadata": {},
   "outputs": [
    {
     "data": {
      "text/plain": [
       "['b', 'd', 'g', 'Error', 'k', 'o', 'r', 'Error', 'v', 'x', 'Error']"
      ]
     },
     "execution_count": 25,
     "metadata": {},
     "output_type": "execute_result"
    }
   ],
   "source": [
    "attempt"
   ]
  },
  {
   "cell_type": "code",
   "execution_count": 26,
   "metadata": {},
   "outputs": [],
   "source": [
    "\n",
    "conts = [['Spain', 'France', 'Greece', 'Portugal', 'Romania', 'Germany'], ['USA', 'Mexico', 'Canada'], ['Japan', 'China', 'Korea', 'Vietnam', 'Cambodia'], ['Argentina', 'Chile', 'Brazil', 'Ecuador', 'Uruguay', 'Venezuela'], ['Australia'], ['Zimbabwe', 'Morocco', 'Kenya', 'Ethiopa', 'South Africa'], ['Antarctica']]\n",
    "\n",
    "third_countries = []\n",
    "\n",
    "for c in conts:\n",
    "    try:\n",
    "        third_countries.append(c[2])\n",
    "    except:\n",
    "        third_countries.append(\"Continent does not have 3 countries\")"
   ]
  },
  {
   "cell_type": "code",
   "execution_count": 27,
   "metadata": {},
   "outputs": [
    {
     "data": {
      "text/plain": [
       "['Greece',\n",
       " 'Canada',\n",
       " 'Korea',\n",
       " 'Brazil',\n",
       " 'Continent does not have 3 countries',\n",
       " 'Kenya',\n",
       " 'Continent does not have 3 countries']"
      ]
     },
     "execution_count": 27,
     "metadata": {},
     "output_type": "execute_result"
    }
   ],
   "source": [
    "third_countries"
   ]
  },
  {
   "cell_type": "code",
   "execution_count": 29,
   "metadata": {},
   "outputs": [
    {
     "name": "stdout",
     "output_type": "stream",
     "text": [
      "4\n",
      "10\n",
      "8\n",
      "15\n"
     ]
    }
   ],
   "source": [
    "\n",
    "sport = [\"hockey\", \"basketball\", \"soccer\", \"tennis\", \"football\", \"baseball\"]\n",
    "\n",
    "ppl_play = {\"hockey\":4, \"soccer\": 10, \"football\": 15, \"tennis\": 8}\n",
    "\n",
    "for x in sport:\n",
    "    try:\n",
    "        print(ppl_play[x])\n",
    "    except: \n",
    "        ppl_play[x]=1"
   ]
  },
  {
   "cell_type": "code",
   "execution_count": 30,
   "metadata": {},
   "outputs": [
    {
     "data": {
      "text/plain": [
       "{'baseball': 1,\n",
       " 'basketball': 1,\n",
       " 'football': 15,\n",
       " 'hockey': 4,\n",
       " 'soccer': 10,\n",
       " 'tennis': 8}"
      ]
     },
     "execution_count": 30,
     "metadata": {},
     "output_type": "execute_result"
    }
   ],
   "source": [
    "ppl_play"
   ]
  },
  {
   "cell_type": "code",
   "execution_count": 33,
   "metadata": {},
   "outputs": [],
   "source": [
    "\n",
    "numb = [6, 0, 36, 8, 2, 36, 0, 12, 60, 0, 45, 0, 3, 23]\n",
    "\n",
    "remainder = []\n",
    "\n",
    "for n in numb:\n",
    "    if n!=0:\n",
    "        R=36%n\n",
    "        remainder.append(R)\n",
    "    else:\n",
    "        remainder.append(\"Error\")\n",
    "        "
   ]
  },
  {
   "cell_type": "code",
   "execution_count": 34,
   "metadata": {},
   "outputs": [
    {
     "data": {
      "text/plain": [
       "[0, 'Error', 0, 4, 0, 0, 'Error', 0, 36, 'Error', 36, 'Error', 0, 13]"
      ]
     },
     "execution_count": 34,
     "metadata": {},
     "output_type": "execute_result"
    }
   ],
   "source": [
    "remainder"
   ]
  },
  {
   "cell_type": "code",
   "execution_count": 35,
   "metadata": {},
   "outputs": [
    {
     "name": "stdout",
     "output_type": "stream",
     "text": [
      "Sleep 2 seconds..\n",
      "Sleep 3 seconds..\n",
      "Sleep 4 seconds..\n",
      "Sleep 5 seconds..\n",
      "Done!\n"
     ]
    }
   ],
   "source": [
    "import time\n",
    "\n",
    "for x in range(2, 6):\n",
    "    print('Sleep {} seconds..'.format(x))\n",
    "    time.sleep(x) # \"Sleep\" for x seconds\n",
    "print('Done!')"
   ]
  },
  {
   "cell_type": "code",
   "execution_count": 36,
   "metadata": {},
   "outputs": [
    {
     "name": "stdout",
     "output_type": "stream",
     "text": [
      "Random number between 1 and 10: 4\n",
      "Random letter: S\n"
     ]
    }
   ],
   "source": [
    "import random\n",
    "\n",
    "rand_number = random.randint(1, 10)\n",
    "print('Random number between 1 and 10: {}'.format(rand_number))\n",
    "\n",
    "letters = [letter for letter in 'ABCDEFGHIJKLMNOPQRSTUVWXYZ']\n",
    "rand_letter = random.choice(letters)\n",
    "print('Random letter: {}'.format(rand_letter))"
   ]
  },
  {
   "cell_type": "code",
   "execution_count": 37,
   "metadata": {},
   "outputs": [
    {
     "data": {
      "text/plain": [
       "['A',\n",
       " 'B',\n",
       " 'C',\n",
       " 'D',\n",
       " 'E',\n",
       " 'F',\n",
       " 'G',\n",
       " 'H',\n",
       " 'I',\n",
       " 'J',\n",
       " 'K',\n",
       " 'L',\n",
       " 'M',\n",
       " 'N',\n",
       " 'O',\n",
       " 'P',\n",
       " 'Q',\n",
       " 'R',\n",
       " 'S',\n",
       " 'T',\n",
       " 'U',\n",
       " 'V',\n",
       " 'W',\n",
       " 'X',\n",
       " 'Y',\n",
       " 'Z']"
      ]
     },
     "execution_count": 37,
     "metadata": {},
     "output_type": "execute_result"
    }
   ],
   "source": [
    "letters"
   ]
  },
  {
   "cell_type": "code",
   "execution_count": 38,
   "metadata": {},
   "outputs": [
    {
     "name": "stdout",
     "output_type": "stream",
     "text": [
      "HELLO, WORLD! 123\n",
      "hello, world! 123\n",
      "3\n",
      "2\n"
     ]
    }
   ],
   "source": [
    "myString = 'Hello, World! 123'\n",
    "\n",
    "print(myString.upper()) # HELLO, WORLD! 123\n",
    "print(myString.lower()) # hello, world! 123\n",
    "print(myString.count('l')) # 3\n",
    "\n",
    "s = 'python is pythonic'\n",
    "print(s.count('python')) # 2\n"
   ]
  },
  {
   "cell_type": "code",
   "execution_count": 40,
   "metadata": {},
   "outputs": [
    {
     "data": {
      "text/plain": [
       "2"
      ]
     },
     "execution_count": 40,
     "metadata": {},
     "output_type": "execute_result"
    }
   ],
   "source": [
    "s.count('p')"
   ]
  },
  {
   "cell_type": "code",
   "execution_count": 42,
   "metadata": {},
   "outputs": [],
   "source": [
    "import json\n",
    "\n",
    "# Repeatedly asks the user for a number between min & max (inclusive)\n",
    "def getNumberBetween(prompt, min, max):\n",
    "    userinp = input(prompt) # ask the first time\n",
    "\n",
    "    while True:\n",
    "        try:\n",
    "            n = int(userinp) # try casting to an integer\n",
    "            if n < min:\n",
    "                errmessage = 'Must be at least {}'.format(min)\n",
    "            elif n > max:\n",
    "                errmessage = 'Must be at most {}'.format(max)\n",
    "            else:\n",
    "                return n\n",
    "        except ValueError: # The user didn't enter a number\n",
    "            errmessage = '{} is not a number.'\n",
    "\n",
    "        # If we haven't gotten a number yet, add the error message\n",
    "        # and ask again\n",
    "        userinp = input('{}\\n{}'.format(errmessage, prompt))\n",
    "\n",
    "# Spins the wheel of fortune wheel to give a random prize\n",
    "# Examples:\n",
    "#    { \"type\": \"cash\", \"text\": \"$950\", \"value\": 950, \"prize\": \"A trip to Ann Arbor!\" },\n",
    "#    { \"type\": \"bankrupt\", \"text\": \"Bankrupt\", \"prize\": false },\n",
    "#    { \"type\": \"loseturn\", \"text\": \"Lose a turn\", \"prize\": false }\n",
    "def spinWheel():\n",
    "    with open(\"wheel.json\", 'r') as f:\n",
    "        wheel = json.loads(f.read())\n",
    "        return random.choice(wheel)\n",
    "\n",
    "# Returns a category & phrase (as a tuple) to guess\n",
    "# Example:\n",
    "#     (\"Artist & Song\", \"Whitney Houston's I Will Always Love You\")\n",
    "def getRandomCategoryAndPhrase():\n",
    "    with open(\"phrases.json\", 'r') as f:\n",
    "        phrases = json.loads(f.read())\n",
    "\n",
    "        category = random.choice(list(phrases.keys()))\n",
    "        phrase   = random.choice(phrases[category])\n",
    "        return (category, phrase.upper())\n",
    "\n",
    "# Given a phrase and a list of guessed letters, returns an obscured version\n",
    "# Example:\n",
    "#     guessed: ['L', 'B', 'E', 'R', 'N', 'P', 'K', 'X', 'Z']\n",
    "#     phrase:  \"GLACIER NATIONAL PARK\"\n",
    "#     returns> \"_L___ER N____N_L P_RK\"\n",
    "def obscurePhrase(phrase, guessed):\n",
    "    rv = ''\n",
    "    for s in phrase:\n",
    "        if (s in LETTERS) and (s not in guessed):\n",
    "            rv = rv+'_'\n",
    "        else:\n",
    "            rv = rv+s\n",
    "    return rv\n",
    "\n",
    "# Returns a string representing the current state of the game\n",
    "def showBoard(category, obscuredPhrase, guessed):\n",
    "    return \"\"\"\n",
    "Category: {}\n",
    "Phrase:   {}\n",
    "Guessed:  {}\"\"\".format(category, obscuredPhrase, ', '.join(sorted(guessed)))"
   ]
  },
  {
   "cell_type": "code",
   "execution_count": 45,
   "metadata": {},
   "outputs": [
    {
     "name": "stdout",
     "output_type": "stream",
     "text": [
      "xxx20\n",
      "Must be at most 10\n",
      "xxx23\n",
      "Must be at most 10\n",
      "xxx0\n",
      "Must be at least 1\n",
      "xxx1\n"
     ]
    },
    {
     "data": {
      "text/plain": [
       "1"
      ]
     },
     "execution_count": 45,
     "metadata": {},
     "output_type": "execute_result"
    }
   ],
   "source": [
    "getNumberBetween(\"xxx\", 1,10)"
   ]
  },
  {
   "cell_type": "code",
   "execution_count": 46,
   "metadata": {},
   "outputs": [],
   "source": [
    "VOWEL_COST = 250\n",
    "LETTERS = 'ABCDEFGHIJKLMNOPQRSTUVWXYZ'\n",
    "VOWELS = 'AEIOU'\n",
    "\n",
    "# PART A: WOFPlayer\n",
    "\n",
    "# PART B: WOFHumanPlayer\n",
    "\n",
    "# PART C: WOFComputerPlayer"
   ]
  },
  {
   "cell_type": "raw",
   "metadata": {},
   "source": [
    "Part A: ``WOFPlayer``\n",
    "\n",
    "We’re going to start by defining a class to represent a Wheel of Fortune player, called WOFPlayer. Every instance of WOFPlayer has three instance variables:\n",
    "\n",
    ".name: The name of the player (should be passed into the constructor)\n",
    ".prizeMoney: The amount of prize money for this player (an integer, initialized to 0)\n",
    ".prizes: The prizes this player has won so far (a list, initialized to [])\n",
    "It should also have the following methods (note: we will exclude self in our descriptions):\n",
    "\n",
    ".addMoney(amt): Add amt to self.prizeMoney\n",
    ".goBankrupt(): Set self.prizeMoney to 0\n",
    ".addPrize(prize): Add prize to self.prizes\n",
    ".__str__(): Returns the player’s name and prize money in the following format:\n",
    "Steve ($1800) (for a player with instance variables .name == 'Steve' and prizeMoney == 1800)"
   ]
  },
  {
   "cell_type": "code",
   "execution_count": 82,
   "metadata": {},
   "outputs": [],
   "source": [
    "VOWEL_COST = 250\n",
    "LETTERS = 'ABCDEFGHIJKLMNOPQRSTUVWXYZ'\n",
    "VOWELS = 'AEIOU'\n",
    "\n",
    "# PART A: WOFPlayer\n",
    "class WOFPlayer():\n",
    "    prizeMoney = 0\n",
    "    prizes = []\n",
    "    \n",
    "    \n",
    "    def __init__(self, name):\n",
    "        self.name = name\n",
    "    \n",
    "    def addMoney(self,amt):\n",
    "        self.prizeMoney+=amt\n",
    "        \n",
    "    def goBankrupt(self):\n",
    "        self.prizeMoney = 0\n",
    "        \n",
    "    def addPrize(self,prize):\n",
    "        self.prizes.append(prize)\n",
    "     \n",
    "    def __str__(self):\n",
    "        return \"{} (${})\".format(self.name, self.prizeMoney)\n",
    "\n",
    "    \n",
    "\n",
    "# PART B: WOFHumanPlayer\n",
    "\n",
    "# PART C: WOFComputerPlayer\n"
   ]
  },
  {
   "cell_type": "code",
   "execution_count": 83,
   "metadata": {},
   "outputs": [],
   "source": [
    "p1 = WOFPlayer(\"George\")"
   ]
  },
  {
   "cell_type": "code",
   "execution_count": 84,
   "metadata": {},
   "outputs": [
    {
     "data": {
      "text/plain": [
       "0"
      ]
     },
     "execution_count": 84,
     "metadata": {},
     "output_type": "execute_result"
    }
   ],
   "source": [
    "p1.prizeMoney"
   ]
  },
  {
   "cell_type": "code",
   "execution_count": 85,
   "metadata": {},
   "outputs": [],
   "source": [
    "p1.addMoney(20)"
   ]
  },
  {
   "cell_type": "code",
   "execution_count": 86,
   "metadata": {},
   "outputs": [
    {
     "data": {
      "text/plain": [
       "20"
      ]
     },
     "execution_count": 86,
     "metadata": {},
     "output_type": "execute_result"
    }
   ],
   "source": [
    "p1.prizeMoney"
   ]
  },
  {
   "cell_type": "code",
   "execution_count": 87,
   "metadata": {},
   "outputs": [],
   "source": [
    "p1.addMoney(25)"
   ]
  },
  {
   "cell_type": "code",
   "execution_count": 88,
   "metadata": {},
   "outputs": [
    {
     "data": {
      "text/plain": [
       "45"
      ]
     },
     "execution_count": 88,
     "metadata": {},
     "output_type": "execute_result"
    }
   ],
   "source": [
    "p1.prizeMoney"
   ]
  },
  {
   "cell_type": "code",
   "execution_count": 89,
   "metadata": {},
   "outputs": [
    {
     "name": "stdout",
     "output_type": "stream",
     "text": [
      "George ($45)\n"
     ]
    }
   ],
   "source": [
    "print(p1)"
   ]
  },
  {
   "cell_type": "code",
   "execution_count": 76,
   "metadata": {},
   "outputs": [],
   "source": [
    "p1.goBankrupt()"
   ]
  },
  {
   "cell_type": "code",
   "execution_count": 77,
   "metadata": {},
   "outputs": [
    {
     "data": {
      "text/plain": [
       "0"
      ]
     },
     "execution_count": 77,
     "metadata": {},
     "output_type": "execute_result"
    }
   ],
   "source": [
    "p1.prizeMoney"
   ]
  },
  {
   "cell_type": "code",
   "execution_count": 78,
   "metadata": {},
   "outputs": [],
   "source": [
    "p1.addPrize(\"aggouria\")"
   ]
  },
  {
   "cell_type": "code",
   "execution_count": 79,
   "metadata": {},
   "outputs": [
    {
     "data": {
      "text/plain": [
       "['aggouria']"
      ]
     },
     "execution_count": 79,
     "metadata": {},
     "output_type": "execute_result"
    }
   ],
   "source": [
    "p1.prizes"
   ]
  },
  {
   "cell_type": "code",
   "execution_count": 80,
   "metadata": {},
   "outputs": [],
   "source": [
    "p1.addPrize(\"patates\")"
   ]
  },
  {
   "cell_type": "code",
   "execution_count": 81,
   "metadata": {},
   "outputs": [
    {
     "data": {
      "text/plain": [
       "['aggouria', 'patates']"
      ]
     },
     "execution_count": 81,
     "metadata": {},
     "output_type": "execute_result"
    }
   ],
   "source": [
    "p1.prizes"
   ]
  },
  {
   "cell_type": "code",
   "execution_count": 97,
   "metadata": {},
   "outputs": [],
   "source": [
    "class WOFHumanPlayer(WOFPlayer):\n",
    "    \n",
    "    def getMove(self, category, obscuredPhrase, guessed):\n",
    "        \n",
    "        self.guessed = guessed\n",
    "        \n",
    "    \n",
    "    "
   ]
  },
  {
   "cell_type": "code",
   "execution_count": 98,
   "metadata": {},
   "outputs": [],
   "source": [
    "p2 = WOFHumanPlayer(p1)"
   ]
  },
  {
   "cell_type": "code",
   "execution_count": 99,
   "metadata": {},
   "outputs": [
    {
     "name": "stdout",
     "output_type": "stream",
     "text": [
      "George ($45) ($0)\n"
     ]
    }
   ],
   "source": [
    "print(p2)"
   ]
  },
  {
   "cell_type": "code",
   "execution_count": 100,
   "metadata": {},
   "outputs": [],
   "source": [
    "p2.guessed=\"A\""
   ]
  },
  {
   "cell_type": "code",
   "execution_count": 101,
   "metadata": {},
   "outputs": [
    {
     "data": {
      "text/plain": [
       "'A'"
      ]
     },
     "execution_count": 101,
     "metadata": {},
     "output_type": "execute_result"
    }
   ],
   "source": [
    "p2.guessed"
   ]
  },
  {
   "cell_type": "code",
   "execution_count": 102,
   "metadata": {},
   "outputs": [],
   "source": [
    "p2.guessed=\"pass\""
   ]
  },
  {
   "cell_type": "code",
   "execution_count": 103,
   "metadata": {},
   "outputs": [
    {
     "data": {
      "text/plain": [
       "'pass'"
      ]
     },
     "execution_count": 103,
     "metadata": {},
     "output_type": "execute_result"
    }
   ],
   "source": [
    "p2.guessed"
   ]
  },
  {
   "cell_type": "code",
   "execution_count": 105,
   "metadata": {},
   "outputs": [
    {
     "name": "stdout",
     "output_type": "stream",
     "text": [
      "passs\n"
     ]
    }
   ],
   "source": [
    "txt=\"passs\"\n",
    "if txt not in ['exit', 'pass']:\n",
    "    print(txt)"
   ]
  },
  {
   "cell_type": "code",
   "execution_count": null,
   "metadata": {},
   "outputs": [],
   "source": [
    "class WOFComputerPlayer(WOFPlayer):\n",
    "    SORTED_FREQUENCIES = \"ZQXJKVBPYGFWMUCLDRHSNIOATE\"\n",
    "    lst_char = []\n",
    "    \n",
    "    def __init__(self, name, difficulty):\n",
    "        WOFPlayer.__init__(self,name)\n",
    "        self.difficuly=difficulty\n",
    "        self.SORTED_FREQUENCIES = \"ZQXJKVBPYGFWMUCLDRHSNIOATE\"\n",
    "        self.lst_char=list(LETTERS)\n",
    "    def smartCoinFlip(self):\n",
    "        randnum=random.randint(1,11)\n",
    "        if (randnum>self.difficulty):\n",
    "            return True\n",
    "        else:\n",
    "            return False"
   ]
  },
  {
   "cell_type": "code",
   "execution_count": 106,
   "metadata": {},
   "outputs": [],
   "source": [
    "VOWEL_COST = 250\n",
    "LETTERS = 'ABCDEFGHIJKLMNOPQRSTUVWXYZ'\n",
    "VOWELS = 'AEIOU'\n",
    "\n",
    "# PART A: WOFPlayer\n",
    "# PART A: WOFPlayer\n",
    "VOWEL_COST = 250\n",
    "LETTERS = 'ABCDEFGHIJKLMNOPQRSTUVWXYZ'\n",
    "VOWELS = 'AEIOU'\n",
    "\n",
    "# PART A: WOFPlayer\n",
    "class WOFPlayer():\n",
    "    # prizeMoney = 0\n",
    "    # prizes = []\n",
    "    \n",
    "    \n",
    "    def __init__(self, name):\n",
    "        self.name = name\n",
    "        self.prizeMoney = 0\n",
    "        self.prizes = []\n",
    "    \n",
    "    def addMoney(self,amt):\n",
    "        self.prizeMoney+=amt\n",
    "        \n",
    "    def goBankrupt(self):\n",
    "        self.prizeMoney = 0\n",
    "        \n",
    "    def addPrize(self,prize):\n",
    "        self.prizes.append(prize)\n",
    "     \n",
    "    def __str__(self):\n",
    "        return \"{} (${})\".format(self.name, self.prizeMoney)\n",
    "\n",
    "# PART B: WOFHumanPlayer\n",
    "\n",
    "class WOFHumanPlayer(WOFPlayer):\n",
    "    \n",
    "    def getMove(self, category, obscuredPhrase, guessed):\n",
    "        WOFPlayer.__init__(self,name)\n",
    "        self.category=category\n",
    "        self.obscuredPhrase=obscuredPhrase\n",
    "        self.guessed = guessed\n",
    "        \n",
    "\n",
    "# PART C: WOFComputerPlayer\n",
    "\n",
    "class WOFComputerPlayer(WOFPlayer):\n",
    "    SORTED_FREQUENCIES = \"ZQXJKVBPYGFWMUCLDRHSNIOATE\"\n",
    "    lst_char = []\n",
    "  \n",
    "    def __init__(self, name, difficulty):\n",
    "        WOFPlayer.__init__(self,name)\n",
    "        self.difficuly=difficulty\n",
    "        self.SORTED_FREQUENCIES = \"ZQXJKVBPYGFWMUCLDRHSNIOATE\"\n",
    "        self.lst_char=list(LETTERS)\n",
    "    def smartCoinFlip(self):\n",
    "        randnum=random.randint(1,11)\n",
    "        if (randnum>self.difficulty):\n",
    "            return True\n",
    "        else:\n",
    "            return False\n",
    "    def getPossibleLetters(self, guessed):\n",
    "        self.guessed-guessed\n",
    "        self.lst_char=list(LETTERS)\n",
    "        for l in self.guessed:\n",
    "            if (l in self.lst_char):\n",
    "                self.lst_char.remove(l)\n",
    "        if (self.prizeMoney<VOWEL_COST):\n",
    "            for l in VOWELS:\n",
    "                self.lst_char.remove(l)\n",
    "        return self.lst_char\n",
    "    \n",
    "    def getMove(self, category, obscuredPhrase, guessed):\n",
    "        self.category=category\n",
    "        self.obscuredPhrase=obscuredPhrase\n",
    "        self.guessed = guessed\n",
    "        self.getPossibleLetters(self.guessed)\n",
    "        if (self.lst_char is None):\n",
    "            return \"pass\"\n",
    "        if (self.smartCoinFlip()==True):\n",
    "            return self.SORTED_FREQUENCIES[-1]\n",
    "        else:\n",
    "            return random.choice(self.lst_char)\n",
    "        \n",
    "\n"
   ]
  },
  {
   "cell_type": "code",
   "execution_count": null,
   "metadata": {},
   "outputs": [],
   "source": []
  }
 ],
 "metadata": {
  "kernelspec": {
   "display_name": "Python 3",
   "language": "python",
   "name": "python3"
  },
  "language_info": {
   "codemirror_mode": {
    "name": "ipython",
    "version": 3
   },
   "file_extension": ".py",
   "mimetype": "text/x-python",
   "name": "python",
   "nbconvert_exporter": "python",
   "pygments_lexer": "ipython3",
   "version": "3.6.1"
  }
 },
 "nbformat": 4,
 "nbformat_minor": 2
}
