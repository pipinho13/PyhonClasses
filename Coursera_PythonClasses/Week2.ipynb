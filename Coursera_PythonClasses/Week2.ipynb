{
 "cells": [
  {
   "cell_type": "markdown",
   "metadata": {},
   "source": [
    "### Class Inheritance"
   ]
  },
  {
   "cell_type": "code",
   "execution_count": 9,
   "metadata": {},
   "outputs": [],
   "source": [
    "CURRENT_YEAR = 2019\n",
    "class Person:\n",
    "   \n",
    "    def __init__(self, name, year_born):\n",
    "        self.name = name\n",
    "        self.year_born = year_born\n",
    "    \n",
    "    def getAge(self):\n",
    "        return CURRENT_YEAR-self.year_born\n",
    "    \n",
    "    def __str__(self):\n",
    "        return '{} ({})'.format(self.name, self.getAge())"
   ]
  },
  {
   "cell_type": "code",
   "execution_count": 10,
   "metadata": {},
   "outputs": [],
   "source": [
    "alice = Person('Alice Smith', 1990)"
   ]
  },
  {
   "cell_type": "code",
   "execution_count": 11,
   "metadata": {},
   "outputs": [
    {
     "name": "stdout",
     "output_type": "stream",
     "text": [
      "Alice Smith (29)\n"
     ]
    }
   ],
   "source": [
    "print(alice)"
   ]
  },
  {
   "cell_type": "code",
   "execution_count": 12,
   "metadata": {},
   "outputs": [],
   "source": [
    "class Student:\n",
    "   \n",
    "    def __init__(self, name, year_born):\n",
    "        self.name = name\n",
    "        self.year_born = year_born\n",
    "        self.knowledge = 0\n",
    "        \n",
    "    \n",
    "    def study(self):\n",
    "        self.knowledge+=1\n",
    "        \n",
    "    def getAge(self):\n",
    "        return CURRENT_YEAR-self.year_born\n",
    "    \n",
    "    def __str__(self):\n",
    "        return '{} ({})'.format(self.name, self.getAge())"
   ]
  },
  {
   "cell_type": "code",
   "execution_count": 13,
   "metadata": {},
   "outputs": [
    {
     "name": "stdout",
     "output_type": "stream",
     "text": [
      "Alice Smith (29)\n"
     ]
    }
   ],
   "source": [
    "alice = Student('Alice Smith', 1990)\n",
    "print(alice)"
   ]
  },
  {
   "cell_type": "code",
   "execution_count": 15,
   "metadata": {},
   "outputs": [
    {
     "name": "stdout",
     "output_type": "stream",
     "text": [
      "0\n"
     ]
    }
   ],
   "source": [
    "print(alice.knowledge)"
   ]
  },
  {
   "cell_type": "code",
   "execution_count": 16,
   "metadata": {},
   "outputs": [],
   "source": [
    "alice.study()"
   ]
  },
  {
   "cell_type": "code",
   "execution_count": 17,
   "metadata": {},
   "outputs": [
    {
     "name": "stdout",
     "output_type": "stream",
     "text": [
      "1\n"
     ]
    }
   ],
   "source": [
    "print(alice.knowledge)"
   ]
  },
  {
   "cell_type": "markdown",
   "metadata": {},
   "source": [
    "Every Student is a Person so we want Student to inherite from Person"
   ]
  },
  {
   "cell_type": "code",
   "execution_count": 18,
   "metadata": {},
   "outputs": [],
   "source": [
    "class Student(Person):\n",
    "    \n",
    "    def __init__(self, name, year_born):\n",
    "        Person.__init__(self, name, year_born )\n",
    "        self.knowledge = 0\n",
    "    \n",
    "    def study(self):\n",
    "        self.knowledge+=1\n",
    "        \n",
    "    \n",
    "    "
   ]
  },
  {
   "cell_type": "code",
   "execution_count": 19,
   "metadata": {},
   "outputs": [
    {
     "name": "stdout",
     "output_type": "stream",
     "text": [
      "1\n"
     ]
    }
   ],
   "source": [
    "alice= Student('Alice Smith', 1990)\n",
    "\n",
    "alice.study()\n",
    "\n",
    "print(alice.knowledge)"
   ]
  },
  {
   "cell_type": "code",
   "execution_count": 20,
   "metadata": {},
   "outputs": [
    {
     "name": "stdout",
     "output_type": "stream",
     "text": [
      "Alice Smith (29)\n"
     ]
    }
   ],
   "source": [
    "print(alice)"
   ]
  },
  {
   "cell_type": "code",
   "execution_count": 21,
   "metadata": {},
   "outputs": [
    {
     "name": "stdout",
     "output_type": "stream",
     "text": [
      "29\n"
     ]
    }
   ],
   "source": [
    "print(alice.getAge())"
   ]
  },
  {
   "cell_type": "markdown",
   "metadata": {},
   "source": [
    "Say we want to define a class Cat that inherits from Pet. Assume we have the Pet class that we defined earlier.\n",
    "\n",
    "We want the Cat type to be exactly the same as Pet, except we want the sound cats to start out knowing “meow” instead of “mrrp”, and we want the Cat class to have its own special method called chasing_rats, which only Cat s have.\n",
    "\n",
    "For reference, here’s the original Tamagotchi code"
   ]
  },
  {
   "cell_type": "code",
   "execution_count": 22,
   "metadata": {},
   "outputs": [],
   "source": [
    "from random import randrange\n",
    "\n",
    "# Here's the original Pet class\n",
    "class Pet():\n",
    "    boredom_decrement = 4\n",
    "    hunger_decrement = 6\n",
    "    boredom_threshold = 5\n",
    "    hunger_threshold = 10\n",
    "    sounds = ['Mrrp']\n",
    "    def __init__(self, name = \"Kitty\"):\n",
    "        self.name = name\n",
    "        self.hunger = randrange(self.hunger_threshold)\n",
    "        self.boredom = randrange(self.boredom_threshold)\n",
    "        self.sounds = self.sounds[:]  # copy the class attribute, so that when we make changes to it, we won't affect the other Pets in the class\n",
    "\n",
    "    def clock_tick(self):\n",
    "        self.boredom += 1\n",
    "        self.hunger += 1\n",
    "\n",
    "    def mood(self):\n",
    "        if self.hunger <= self.hunger_threshold and self.boredom <= self.boredom_threshold:\n",
    "            return \"happy\"\n",
    "        elif self.hunger > self.hunger_threshold:\n",
    "            return \"hungry\"\n",
    "        else:\n",
    "            return \"bored\"\n",
    "\n",
    "    def __str__(self):\n",
    "        state = \"     I'm \" + self.name + \". \"\n",
    "        state += \" I feel \" + self.mood() + \". \"\n",
    "        # state += \"Hunger %d Boredom %d Words %s\" % (self.hunger, self.boredom, self.sounds)\n",
    "        return state\n",
    "\n",
    "    def hi(self):\n",
    "        print(self.sounds[randrange(len(self.sounds))])\n",
    "        self.reduce_boredom()\n",
    "\n",
    "    def teach(self, word):\n",
    "        self.sounds.append(word)\n",
    "        self.reduce_boredom()\n",
    "\n",
    "    def feed(self):\n",
    "        self.reduce_hunger()\n",
    "\n",
    "    def reduce_hunger(self):\n",
    "        self.hunger = max(0, self.hunger - self.hunger_decrement)\n",
    "\n",
    "    def reduce_boredom(self):\n",
    "        self.boredom = max(0, self.boredom - self.boredom_decrement)\n",
    "\n",
    "# Here's the new definition of class Cat, a subclass of Pet.\n",
    "class Cat(Pet): # the class name that the new class inherits from goes in the parentheses, like so.\n",
    "    sounds = ['Meow']\n",
    "\n",
    "    def chasing_rats(self):\n",
    "        return \"What are you doing, Pinky? Taking over the world?!\""
   ]
  },
  {
   "cell_type": "code",
   "execution_count": 23,
   "metadata": {},
   "outputs": [
    {
     "name": "stdout",
     "output_type": "stream",
     "text": [
      "     I'm Fido.  I feel happy. \n",
      "Mrrp\n",
      "     I'm Fido.  I feel happy. \n",
      "     I'm Fluffy.  I feel happy. \n",
      "Meow\n",
      "     I'm Fluffy.  I feel happy. \n",
      "What are you doing, Pinky? Taking over the world?!\n"
     ]
    }
   ],
   "source": [
    "p1 = Pet(\"Fido\")\n",
    "print(p1) # we've seen this stuff before!\n",
    "\n",
    "p1.feed()\n",
    "p1.hi()\n",
    "print(p1)\n",
    "\n",
    "cat1 = Cat(\"Fluffy\")\n",
    "print(cat1) # this uses the same __str__ method as the Pets do\n",
    "\n",
    "cat1.feed() # Totally fine, because the cat class inherits from the Pet class!\n",
    "cat1.hi()\n",
    "print(cat1)\n",
    "\n",
    "print(cat1.chasing_rats())\n",
    "\n",
    "#print(p1.chasing_rats()) # This line will give us an error. The Pet class doesn't have this method!\n"
   ]
  },
  {
   "cell_type": "code",
   "execution_count": 24,
   "metadata": {},
   "outputs": [
    {
     "name": "stdout",
     "output_type": "stream",
     "text": [
      "Meow\n",
      "     I'm Fluffy.  I feel happy. \n",
      "What are you doing, Pinky? Taking over the world?!\n",
      "Meow\n",
      ":D :D :D\n",
      "Mrrp\n"
     ]
    }
   ],
   "source": [
    "class Cheshire(Cat): # this inherits from Cat, which inherits from Pet\n",
    "\n",
    "    def smile(self): # this method is specific to instances of Cheshire\n",
    "        print(\":D :D :D\")\n",
    "\n",
    "# Let's try it with instances.\n",
    "cat1 = Cat(\"Fluffy\")\n",
    "cat1.feed() # Totally fine, because the cat class inherits from the Pet class!\n",
    "cat1.hi() # Uses the special Cat hello.\n",
    "print(cat1)\n",
    "\n",
    "print(cat1.chasing_rats())\n",
    "\n",
    "new_cat = Cheshire(\"Pumpkin\") # create a Cheshire cat instance with name \"Pumpkin\"\n",
    "new_cat.hi() # same as Cat!\n",
    "new_cat.chasing_rats() # OK, because Cheshire inherits from Cat\n",
    "new_cat.smile() # Only for Cheshire instances (and any classes that you make inherit from Cheshire)\n",
    "\n",
    "# cat1.smile() # This line would give you an error, because the Cat class does not have this method!\n",
    "\n",
    "# None of the subclass methods can be used on the parent class, though.\n",
    "p1 = Pet(\"Teddy\")\n",
    "p1.hi() # just the regular Pet hello\n",
    "#p1.chasing_rats() # This will give you an error -- this method doesn't exist on instances of the Pet class.\n",
    "#p1.smile() # This will give you an error, too. This method does not exist on instances of the Pet class."
   ]
  },
  {
   "cell_type": "code",
   "execution_count": 25,
   "metadata": {},
   "outputs": [
    {
     "name": "stdout",
     "output_type": "stream",
     "text": [
      "Pumpkin\n"
     ]
    }
   ],
   "source": [
    "new_cat = Cheshire(\"Pumpkin\")\n",
    "print(new_cat.name)"
   ]
  },
  {
   "cell_type": "code",
   "execution_count": 26,
   "metadata": {},
   "outputs": [
    {
     "name": "stdout",
     "output_type": "stream",
     "text": [
      "Meow\n"
     ]
    }
   ],
   "source": [
    "cat1 = Cat(\"Sepia\")\n",
    "cat1.hi()"
   ]
  },
  {
   "cell_type": "markdown",
   "metadata": {},
   "source": [
    "### Papers in a Library"
   ]
  },
  {
   "cell_type": "code",
   "execution_count": 54,
   "metadata": {},
   "outputs": [
    {
     "name": "stdout",
     "output_type": "stream",
     "text": [
      "\"The Odyssey\" by Homer\n"
     ]
    }
   ],
   "source": [
    "class Book():\n",
    "    def __init__(self, title, author):\n",
    "        self.title = title\n",
    "        self.author = author\n",
    "    def __str__(self):\n",
    "        return '\"{}\" by {}'.format(self.title, self.author)\n",
    "    \n",
    "myBook =  Book(\"The Odyssey\", \"Homer\")\n",
    "\n",
    "print(myBook)"
   ]
  },
  {
   "cell_type": "code",
   "execution_count": 55,
   "metadata": {},
   "outputs": [],
   "source": [
    "class PaperBook(Book):\n",
    "    def __init__(self, title, author, numPages):\n",
    "        Book.__init__(self, title, author)\n",
    "        self.numPages = numPages"
   ]
  },
  {
   "cell_type": "code",
   "execution_count": 56,
   "metadata": {},
   "outputs": [],
   "source": [
    "class Ebook(Book):\n",
    "    def __init__(self, title, author, size):\n",
    "        Book.__init__(self, title, author)\n",
    "        self.size = size"
   ]
  },
  {
   "cell_type": "code",
   "execution_count": 57,
   "metadata": {},
   "outputs": [
    {
     "name": "stdout",
     "output_type": "stream",
     "text": [
      "2\n"
     ]
    }
   ],
   "source": [
    "myBook = Ebook(\"The Odyssey\", \"Homer\", 2)\n",
    "print(myBook.size)"
   ]
  },
  {
   "cell_type": "code",
   "execution_count": 58,
   "metadata": {},
   "outputs": [
    {
     "name": "stdout",
     "output_type": "stream",
     "text": [
      "500\n"
     ]
    }
   ],
   "source": [
    "myBook2 = PaperBook(\"The Odyssey\", \"Homer\", 500)\n",
    "print(myBook2.numPages)"
   ]
  },
  {
   "cell_type": "code",
   "execution_count": 71,
   "metadata": {},
   "outputs": [],
   "source": [
    "class Library:\n",
    "    \n",
    "    def __init__(self):\n",
    "        self.books = []\n",
    "    def addBook(self, book):\n",
    "        self.books.append(book)\n",
    "    def getNumBooks(self):\n",
    "        return len(self.books)"
   ]
  },
  {
   "cell_type": "code",
   "execution_count": 72,
   "metadata": {},
   "outputs": [],
   "source": [
    "aadl = Library()"
   ]
  },
  {
   "cell_type": "code",
   "execution_count": 73,
   "metadata": {},
   "outputs": [],
   "source": [
    "aadl.addBook(myBook)\n",
    "aadl.addBook(myBook2)"
   ]
  },
  {
   "cell_type": "code",
   "execution_count": 74,
   "metadata": {},
   "outputs": [
    {
     "name": "stdout",
     "output_type": "stream",
     "text": [
      "2\n"
     ]
    }
   ],
   "source": [
    "print(aadl.getNumBooks())"
   ]
  },
  {
   "cell_type": "code",
   "execution_count": null,
   "metadata": {},
   "outputs": [],
   "source": []
  },
  {
   "cell_type": "code",
   "execution_count": 104,
   "metadata": {},
   "outputs": [],
   "source": [
    "\n",
    "class Pokemon(object):\n",
    "    attack = 12\n",
    "    defense = 10\n",
    "    health = 15\n",
    "\n",
    "    def __init__(self, name, level = 5):\n",
    "        self.name = name\n",
    "        self.p_type = \"Normal\"\n",
    "        self.level = level\n",
    "\n",
    "    def train(self):\n",
    "        self.update()\n",
    "        self.attack_up()\n",
    "        self.defense_up()\n",
    "        self.health_up()\n",
    "        self.level = self.level + 1\n",
    "        if self.level%self.evolve == 0:\n",
    "            return self.level, \"Evolved!\"\n",
    "        else:\n",
    "            return self.level\n",
    "\n",
    "    def attack_up(self):\n",
    "        self.attack = self.attack + self.attack_boost\n",
    "        return self.attack\n",
    "\n",
    "    def defense_up(self):\n",
    "        self.defense = self.defense + self.defense_boost\n",
    "        return self.defense\n",
    "\n",
    "    def health_up(self):\n",
    "        self.health = self.health + self.health_boost\n",
    "        return self.health\n",
    "\n",
    "    def update(self):\n",
    "        self.health_boost = 5\n",
    "        self.attack_boost = 3\n",
    "        self.defense_boost = 2\n",
    "        self.evolve = 10\n",
    "\n",
    "    def __str__(self):\n",
    "        self.update()\n",
    "        return \"Pokemon name: {}, Type: {}, Level: {}\".format(self.name, self.p_type, self.level)\n",
    "\n",
    "class Grass_Pokemon(Pokemon):\n",
    "    attack = 15\n",
    "    defense = 14\n",
    "    health = 12\n",
    "\n",
    "    def update(self):\n",
    "        self.health_boost = 6\n",
    "        self.attack_boost = 2\n",
    "        self.defense_boost = 3\n",
    "        self.evolve = 12\n",
    "        \n",
    "    def action(self):\n",
    "        name = self.name\n",
    "        print(\"{} knows a lot of different moves!\".format(name))\n",
    "    \n",
    "   \n",
    "        \n",
    "\n",
    "    def moves(self):\n",
    "        self.p_moves = [\"razor leaf\", \"synthesis\", \"petal dance\"]\n",
    "\n",
    "\n",
    "p1=Grass_Pokemon(\"Belle\")\n",
    "\n"
   ]
  },
  {
   "cell_type": "code",
   "execution_count": 97,
   "metadata": {},
   "outputs": [
    {
     "data": {
      "text/plain": [
       "<__main__.Grass_Pokemon at 0x5304518>"
      ]
     },
     "execution_count": 97,
     "metadata": {},
     "output_type": "execute_result"
    }
   ],
   "source": [
    "p1"
   ]
  },
  {
   "cell_type": "code",
   "execution_count": 98,
   "metadata": {},
   "outputs": [],
   "source": [
    "p2=Pokemon(\"Belle\")"
   ]
  },
  {
   "cell_type": "code",
   "execution_count": 99,
   "metadata": {},
   "outputs": [
    {
     "name": "stdout",
     "output_type": "stream",
     "text": [
      "Pokemon name: Belle, Type: Normal, Level: 5\n"
     ]
    }
   ],
   "source": [
    "print(p2)"
   ]
  },
  {
   "cell_type": "code",
   "execution_count": 100,
   "metadata": {},
   "outputs": [],
   "source": [
    "p1=Grass_Pokemon(\"Belle\")"
   ]
  },
  {
   "cell_type": "code",
   "execution_count": 101,
   "metadata": {},
   "outputs": [
    {
     "name": "stdout",
     "output_type": "stream",
     "text": [
      "Pokemon name: Belle, Type: Normal, Level: 5\n"
     ]
    }
   ],
   "source": [
    "print(p1)"
   ]
  },
  {
   "cell_type": "code",
   "execution_count": 105,
   "metadata": {},
   "outputs": [
    {
     "name": "stdout",
     "output_type": "stream",
     "text": [
      "Belle knows a lot of different moves!\n",
      "None\n"
     ]
    }
   ],
   "source": [
    "print(p1.action())"
   ]
  },
  {
   "cell_type": "code",
   "execution_count": 106,
   "metadata": {},
   "outputs": [
    {
     "name": "stdout",
     "output_type": "stream",
     "text": [
      "Belle knows a lot of different moves!\n"
     ]
    }
   ],
   "source": [
    "p1.action()"
   ]
  },
  {
   "cell_type": "code",
   "execution_count": 117,
   "metadata": {},
   "outputs": [],
   "source": [
    "\n",
    "class Pokemon(object):\n",
    "    attack = 12\n",
    "    defense = 10\n",
    "    health = 15\n",
    "\n",
    "    def __init__(self, name, level = 5):\n",
    "        self.name = name\n",
    "        self.p_type = \"Normal\"\n",
    "        self.level = level\n",
    "\n",
    "    def train(self):\n",
    "        self.update()\n",
    "        self.attack_up()\n",
    "        self.defense_up()\n",
    "        self.health_up()\n",
    "        self.level = self.level + 1\n",
    "        if self.level%self.evolve == 0:\n",
    "            return self.level, \"Evolved!\"\n",
    "        else:\n",
    "            return self.level\n",
    "\n",
    "    def attack_up(self):\n",
    "        self.attack = self.attack + self.attack_boost\n",
    "        return self.attack\n",
    "\n",
    "    def defense_up(self):\n",
    "        self.defense = self.defense + self.defense_boost\n",
    "        return self.defense\n",
    "\n",
    "    def health_up(self):\n",
    "        self.health = self.health + self.health_boost\n",
    "        return self.health\n",
    "\n",
    "    def update(self):\n",
    "        self.health_boost = 5\n",
    "        self.attack_boost = 3\n",
    "        self.defense_boost = 2\n",
    "        self.evolve = 10\n",
    "\n",
    "    def __str__(self):\n",
    "        self.update()\n",
    "        return \"Pokemon name: {}, Type: {}, Level: {}\".format(self.name, self.p_type, self.level)\n",
    "\n",
    "class Grass_Pokemon(Pokemon):\n",
    "    attack = 15\n",
    "    defense = 14\n",
    "    health = 12\n",
    "\n",
    "    def update(self):\n",
    "        self.health_boost = 6\n",
    "        self.attack_boost = 2\n",
    "        self.defense_boost = 3\n",
    "        self.evolve = 12\n",
    "        \n",
    "    def action(self):\n",
    "        name = self.name\n",
    "        return \"{} knows a lot of different moves!\".format(name)\n",
    "    \n",
    "   \n",
    "        \n",
    "\n",
    "    def moves(self):\n",
    "        self.p_moves = [\"razor leaf\", \"synthesis\", \"petal dance\"]\n",
    "\n",
    "\n",
    "\n",
    "p1 =  Grass_Pokemon(\"Belle\")\n",
    "\n",
    "\n"
   ]
  },
  {
   "cell_type": "code",
   "execution_count": 119,
   "metadata": {},
   "outputs": [
    {
     "data": {
      "text/plain": [
       "'Belle knows a lot of different moves!'"
      ]
     },
     "execution_count": 119,
     "metadata": {},
     "output_type": "execute_result"
    }
   ],
   "source": [
    "p1.action()"
   ]
  },
  {
   "cell_type": "code",
   "execution_count": 123,
   "metadata": {},
   "outputs": [],
   "source": [
    "\n",
    "class Pokemon(object):\n",
    "    attack = 12\n",
    "    defense = 10\n",
    "    health = 15\n",
    "\n",
    "    def __init__(self, name, level = 5):\n",
    "        self.name = name\n",
    "        self.p_type = \"Normal\"\n",
    "        self.level = level\n",
    "\n",
    "    def train(self):\n",
    "        self.update()\n",
    "        self.attack_up()\n",
    "        self.defense_up()\n",
    "        self.health_up()\n",
    "        self.level = self.level + 1\n",
    "        if self.level%self.evolve == 0:\n",
    "            return self.level, \"Evolved!\"\n",
    "        else:\n",
    "            return self.level\n",
    "\n",
    "    def attack_up(self):\n",
    "        self.attack = self.attack + self.attack_boost\n",
    "        return self.attack\n",
    "\n",
    "    def defense_up(self):\n",
    "        self.defense = self.defense + self.defense_boost\n",
    "        return self.defense\n",
    "\n",
    "    def health_up(self):\n",
    "        self.health = self.health + self.health_boost\n",
    "        return self.health\n",
    "\n",
    "    def update(self):\n",
    "        self.health_boost = 5\n",
    "        self.attack_boost = 3\n",
    "        self.defense_boost = 2\n",
    "        self.evolve = 10\n",
    "\n",
    "    def __str__(self):\n",
    "        return \"Pokemon name: {}, Type: {}, Level: {}\".format(self.name, self.p_type, self.level)\n",
    "\n",
    "class Grass_Pokemon(Pokemon):\n",
    "    attack = 15\n",
    "    defense = 14\n",
    "    health = 12\n",
    "     \n",
    "    def __init__(self, name, level = 5):\n",
    "        Pokemon.__init__(self, name, level)\n",
    "        self.update()\n",
    "\n",
    "    def update(self):\n",
    "        self.health_boost = 6\n",
    "        self.attack_boost = 2\n",
    "        self.defense_boost = 3\n",
    "        self.evolve = 12\n",
    "        self.p_type = \"Grass\"\n",
    "        \n",
    "    def train(self):\n",
    "        if self.level>=10:\n",
    "            self.update()\n",
    "        self.attack_up()\n",
    "        self.defense_up()\n",
    "        self.health_up()\n",
    "        self.level = self.level + 1\n",
    "        if self.level%self.evolve == 0:\n",
    "            return self.level, \"Evolved!\"\n",
    "        else:\n",
    "            return self.level\n",
    "\n",
    "    def moves(self):\n",
    "        self.p_moves = [\"razor leaf\", \"synthesis\", \"petal dance\"]\n",
    "\n",
    "p2 = Grass_Pokemon('Bulby')\n",
    "\n",
    "p3 = Grass_Pokemon('Pika')\n"
   ]
  },
  {
   "cell_type": "code",
   "execution_count": 124,
   "metadata": {},
   "outputs": [
    {
     "name": "stdout",
     "output_type": "stream",
     "text": [
      "Attack - 17 Level - 6\n",
      "Attack - 19 Level - 7\n",
      "Attack - 21 Level - 8\n",
      "Attack - 23 Level - 9\n",
      "Attack - 25 Level - 10\n"
     ]
    }
   ],
   "source": [
    "p2 = Grass_Pokemon('Bulby')\n",
    "\n",
    "p3 = Grass_Pokemon('Pika')\n",
    "\n",
    "p3.train()\n",
    "print('Attack -', p3.attack, 'Level -', p3.level)\n",
    "p3.train()\n",
    "print('Attack -', p3.attack, 'Level -', p3.level)\n",
    "p3.train()\n",
    "print('Attack -', p3.attack, 'Level -', p3.level)\n",
    "p3.train()\n",
    "print('Attack -', p3.attack, 'Level -', p3.level)\n",
    "p3.train()\n",
    "print('Attack -', p3.attack, 'Level -', p3.level)"
   ]
  },
  {
   "cell_type": "code",
   "execution_count": null,
   "metadata": {},
   "outputs": [],
   "source": [
    "class Pokemon():\n",
    "    attack = 12\n",
    "    defense = 10\n",
    "    health = 15\n",
    "\n",
    "    def __init__(self, name,level = 5):\n",
    "        self.name = name\n",
    "        self.p_type = \"Normal\"\n",
    "        self.level = level\n",
    "        self.weak = \"Normal\"\n",
    "        self.strong = \"Normal\"\n",
    "\n",
    "    def train(self):\n",
    "        self.update()\n",
    "        self.attack_up()\n",
    "        self.defense_up()\n",
    "        self.health_up()\n",
    "        self.level = self.level + 1\n",
    "        if self.level%self.evolve == 0:\n",
    "            return self.level, \"Evolved!\"\n",
    "        else:\n",
    "            return self.level\n",
    "\n",
    "    def attack_up(self):\n",
    "        self.attack = self.attack + self.attack_boost\n",
    "        return self.attack\n",
    "\n",
    "    def defense_up(self):\n",
    "        self.defense = self.defense + self.defense_boost\n",
    "        return self.defense\n",
    "\n",
    "    def health_up(self):\n",
    "        self.health = self.health + self.health_boost\n",
    "        return self.health\n",
    "\n",
    "    def update(self):\n",
    "        self.health_boost = 5\n",
    "        self.attack_boost = 3\n",
    "        self.defense_boost = 2\n",
    "        self.evolve = 10\n",
    "\n",
    "    def __str__(self):\n",
    "        self.update()\n",
    "        return \"Pokemon name: {}, Type: {}, Level: {}\".format(self.name, self.p_type, self.level)\n",
    "    \n",
    "    def opponent(self):\n",
    "        self.weak = 'Normal'\n",
    "        self.strong = 'Normal'\n",
    "\n",
    "\n",
    "class Grass_Pokemon(Pokemon):\n",
    "    attack = 15\n",
    "    defense = 14\n",
    "    health = 12\n",
    "\n",
    "    def update(self):\n",
    "        self.health_boost = 6\n",
    "        self.attack_boost = 2\n",
    "        self.defense_boost = 3\n",
    "        self.evolve = 12\n",
    "        self.p_type = \"Grass\"\n",
    "        \n",
    "    def opponent(self):\n",
    "        self.weak = 'fire'\n",
    "        self.strong = 'water'\n",
    "        return (self.weak,self.strong)\n",
    "\n",
    "class Ghost_Pokemon(Pokemon):\n",
    "\n",
    "    def update(self):\n",
    "        self.health_boost = 3\n",
    "        self.attack_boost = 4\n",
    "        self.defense_boost = 3\n",
    "        self.p_type = \"Ghost\"\n",
    "        \n",
    "    def opponent(self):\n",
    "        self.weak = 'dark'\n",
    "        self.strong = 'psychic'\n",
    "        return (self.weak,self.strong)\n",
    "\n",
    "class Fire_Pokemon(Pokemon):\n",
    "\n",
    "    def update(self):\n",
    "        Pokemon.update(self)\n",
    "        self.p_type = \"Fire\"\n",
    "            \n",
    "    def opponent(self):\n",
    "        self.weak = 'water'\n",
    "        self.strong = 'grass'\n",
    "        return (self.weak,self.strong)\n",
    "\n",
    "class Flying_Pokemon(Pokemon):\n",
    "    def update(self):\n",
    "        Pokemon.update(self)\n",
    "        self.p_type = \"Flying\"\n",
    "    def opponent(self):\n",
    "        self.weak = 'electric'\n",
    "        self.strong = 'fighting'\n",
    "        return (self.weak,self.strong)\n"
   ]
  }
 ],
 "metadata": {
  "kernelspec": {
   "display_name": "Python 3",
   "language": "python",
   "name": "python3"
  },
  "language_info": {
   "codemirror_mode": {
    "name": "ipython",
    "version": 3
   },
   "file_extension": ".py",
   "mimetype": "text/x-python",
   "name": "python",
   "nbconvert_exporter": "python",
   "pygments_lexer": "ipython3",
   "version": "3.6.1"
  }
 },
 "nbformat": 4,
 "nbformat_minor": 2
}
