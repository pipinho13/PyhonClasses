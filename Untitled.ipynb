{
 "cells": [
  {
   "cell_type": "code",
   "execution_count": 9,
   "metadata": {},
   "outputs": [],
   "source": [
    "import PIL"
   ]
  },
  {
   "cell_type": "code",
   "execution_count": 10,
   "metadata": {},
   "outputs": [
    {
     "data": {
      "text/plain": [
       "'4.3.0'"
      ]
     },
     "execution_count": 10,
     "metadata": {},
     "output_type": "execute_result"
    }
   ],
   "source": [
    "PIL.__version__"
   ]
  },
  {
   "cell_type": "code",
   "execution_count": 8,
   "metadata": {},
   "outputs": [
    {
     "name": "stdout",
     "output_type": "stream",
     "text": [
      "Help on package PIL:\n",
      "\n",
      "NAME\n",
      "    PIL\n",
      "\n",
      "PACKAGE CONTENTS\n",
      "    BdfFontFile\n",
      "    BlpImagePlugin\n",
      "    BmpImagePlugin\n",
      "    BufrStubImagePlugin\n",
      "    ContainerIO\n",
      "    CurImagePlugin\n",
      "    DcxImagePlugin\n",
      "    DdsImagePlugin\n",
      "    EpsImagePlugin\n",
      "    ExifTags\n",
      "    FitsStubImagePlugin\n",
      "    FliImagePlugin\n",
      "    FontFile\n",
      "    FpxImagePlugin\n",
      "    FtexImagePlugin\n",
      "    GbrImagePlugin\n",
      "    GdImageFile\n",
      "    GifImagePlugin\n",
      "    GimpGradientFile\n",
      "    GimpPaletteFile\n",
      "    GribStubImagePlugin\n",
      "    Hdf5StubImagePlugin\n",
      "    IcnsImagePlugin\n",
      "    IcoImagePlugin\n",
      "    ImImagePlugin\n",
      "    Image\n",
      "    ImageChops\n",
      "    ImageCms\n",
      "    ImageColor\n",
      "    ImageDraw\n",
      "    ImageDraw2\n",
      "    ImageEnhance\n",
      "    ImageFile\n",
      "    ImageFilter\n",
      "    ImageFont\n",
      "    ImageGrab\n",
      "    ImageMath\n",
      "    ImageMode\n",
      "    ImageMorph\n",
      "    ImageOps\n",
      "    ImagePalette\n",
      "    ImagePath\n",
      "    ImageQt\n",
      "    ImageSequence\n",
      "    ImageShow\n",
      "    ImageStat\n",
      "    ImageTk\n",
      "    ImageTransform\n",
      "    ImageWin\n",
      "    ImtImagePlugin\n",
      "    IptcImagePlugin\n",
      "    Jpeg2KImagePlugin\n",
      "    JpegImagePlugin\n",
      "    JpegPresets\n",
      "    McIdasImagePlugin\n",
      "    MicImagePlugin\n",
      "    MpegImagePlugin\n",
      "    MpoImagePlugin\n",
      "    MspImagePlugin\n",
      "    PSDraw\n",
      "    PaletteFile\n",
      "    PalmImagePlugin\n",
      "    PcdImagePlugin\n",
      "    PcfFontFile\n",
      "    PcxImagePlugin\n",
      "    PdfImagePlugin\n",
      "    PdfParser\n",
      "    PixarImagePlugin\n",
      "    PngImagePlugin\n",
      "    PpmImagePlugin\n",
      "    PsdImagePlugin\n",
      "    PyAccess\n",
      "    SgiImagePlugin\n",
      "    SpiderImagePlugin\n",
      "    SunImagePlugin\n",
      "    TarIO\n",
      "    TgaImagePlugin\n",
      "    TiffImagePlugin\n",
      "    TiffTags\n",
      "    WalImageFile\n",
      "    WebPImagePlugin\n",
      "    WmfImagePlugin\n",
      "    XVThumbImagePlugin\n",
      "    XbmImagePlugin\n",
      "    XpmImagePlugin\n",
      "    _binary\n",
      "    _imaging\n",
      "    _imagingcms\n",
      "    _imagingft\n",
      "    _imagingmath\n",
      "    _imagingmorph\n",
      "    _imagingtk\n",
      "    _tkinter_finder\n",
      "    _util\n",
      "    _version\n",
      "    _webp\n",
      "    features\n",
      "\n",
      "SUBMODULES\n",
      "    version\n",
      "\n",
      "DATA\n",
      "    PILLOW_VERSION = '4.3.0'\n",
      "    VERSION = '1.1.7'\n",
      "\n",
      "VERSION\n",
      "    4.3.0\n",
      "\n",
      "FILE\n",
      "    c:\\users\\gpipis\\appdata\\local\\continuum\\anaconda3\\lib\\site-packages\\pil\\__init__.py\n",
      "\n",
      "\n"
     ]
    }
   ],
   "source": [
    "help(PIL)"
   ]
  },
  {
   "cell_type": "code",
   "execution_count": null,
   "metadata": {},
   "outputs": [],
   "source": []
  }
 ],
 "metadata": {
  "kernelspec": {
   "display_name": "Python 3",
   "language": "python",
   "name": "python3"
  },
  "language_info": {
   "codemirror_mode": {
    "name": "ipython",
    "version": 3
   },
   "file_extension": ".py",
   "mimetype": "text/x-python",
   "name": "python",
   "nbconvert_exporter": "python",
   "pygments_lexer": "ipython3",
   "version": "3.6.1"
  }
 },
 "nbformat": 4,
 "nbformat_minor": 2
}
